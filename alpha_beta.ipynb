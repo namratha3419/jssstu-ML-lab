{
 "cells": [
  {
   "cell_type": "code",
   "execution_count": 11,
   "metadata": {},
   "outputs": [
    {
     "name": "stdout",
     "output_type": "stream",
     "text": [
      "The optimal value is : 12\n",
      "the optimal path is : [0, 1, 2, 4]\n"
     ]
    }
   ],
   "source": [
    "\n",
    "def alphabeta_minimax(depth, nodeIndex, maximizingPlayer, values, alpha, beta, path):\n",
    "\n",
    "\tif depth == 3:\n",
    "\t\treturn values[nodeIndex], path + [nodeIndex]\n",
    "\n",
    "\tif maximizingPlayer:\n",
    "\t\tbest = float('-inf')\n",
    "\t\tbest_path = []\n",
    "\t\tfor i in range(2):\n",
    "\t\t\tval, new_path = alphabeta_minimax(depth + 1, nodeIndex * 2 + i, False, values, alpha, beta, path+[nodeIndex])\n",
    "\n",
    "\t\t\tif val > best:\n",
    "\t\t\t\tbest = val\n",
    "\t\t\t\tbest_path=new_path\n",
    "\t\t\talpha = max(alpha, best)\n",
    "\t\t\tif beta <= alpha:\n",
    "\t\t\t\tbreak\n",
    "\t\treturn best,best_path\n",
    "\n",
    "\telse:\n",
    "\t\tbest = float('inf')\n",
    "\t\tbest_path = []\n",
    "\t\tfor i in range(2):\n",
    "\t\t\tval,new_path = alphabeta_minimax(depth + 1, nodeIndex * 2 + i, True, values, alpha, beta,path+[nodeIndex])\n",
    "\t\t\tif val < best:\n",
    "\t\t\t\tbest = val\n",
    "\t\t\t\tbest_path = new_path\n",
    "\t\t\tbeta = min(beta, best)\n",
    "\t\t\tif beta <= alpha:\n",
    "\t\t\t\tbreak\n",
    "\n",
    "\t\treturn best, best_path\n",
    "\n",
    "\n",
    "values = [3, 5, 2, 9, 12, 5, 23, 23]\n",
    "\n",
    "optimal_value,optimal_path = alphabeta_minimax(0, 0, True, values, float('-inf'), float('inf'),[])\n",
    "\n",
    "print(\"The optimal value is :\",optimal_value )\n",
    "print(\"the optimal path is :\",optimal_path)"
   ]
  },
  {
   "cell_type": "code",
   "execution_count": 8,
   "metadata": {},
   "outputs": [
    {
     "name": "stdout",
     "output_type": "stream",
     "text": [
      "optimal values= 5\n"
     ]
    }
   ],
   "source": [
    "MIN,MAX=-1000,1000\n",
    "def alpha_beta(depth,Index,maximizing,values,alpha,beta):\n",
    "    if depth==3:\n",
    "        return values[Index]\n",
    "    \n",
    "    if maximizing:\n",
    "        best = MIN\n",
    "        for i in range(0,2):\n",
    "            val = alpha_beta(depth+1,Index*2+i,False,values,alpha,beta)\n",
    "            best = max(best,val)\n",
    "            alpha = max(alpha,best)\n",
    "        \n",
    "            if alpha >= beta:\n",
    "                break\n",
    "        return best\n",
    "    \n",
    "    else:\n",
    "        best = MAX\n",
    "        for i in range(0,2):\n",
    "            val = alpha_beta(depth+1,Index*2+i,True,values,alpha,beta)\n",
    "            best = min(best,val)\n",
    "            beta = min(beta,best)\n",
    "\n",
    "            if alpha>=beta:\n",
    "                break\n",
    "\n",
    "        return best\n",
    "    \n",
    "values = [3, 5, 6, 9, 1, 2, 0, -1]\n",
    "print(\"optimal values=\",alpha_beta(0,0,True,values,MIN,MAX))\n",
    "\n"
   ]
  }
 ],
 "metadata": {
  "kernelspec": {
   "display_name": "Python 3",
   "language": "python",
   "name": "python3"
  },
  "language_info": {
   "codemirror_mode": {
    "name": "ipython",
    "version": 3
   },
   "file_extension": ".py",
   "mimetype": "text/x-python",
   "name": "python",
   "nbconvert_exporter": "python",
   "pygments_lexer": "ipython3",
   "version": "3.11.9"
  }
 },
 "nbformat": 4,
 "nbformat_minor": 2
}
