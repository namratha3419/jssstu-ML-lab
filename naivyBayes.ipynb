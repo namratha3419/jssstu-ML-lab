{
 "cells": [
  {
   "cell_type": "code",
   "execution_count": 1,
   "metadata": {},
   "outputs": [],
   "source": [
    "import pandas as pd\n",
    "import numpy as np\n",
    "from sklearn.metrics import confusion_matrix\n",
    "from sklearn.model_selection import train_test_split\n",
    "  "
   ]
  },
  {
   "cell_type": "code",
   "execution_count": 10,
   "metadata": {},
   "outputs": [
    {
     "name": "stderr",
     "output_type": "stream",
     "text": [
      "C:\\Users\\User\\AppData\\Local\\Temp\\ipykernel_15072\\3858296092.py:41: FutureWarning: A value is trying to be set on a copy of a DataFrame or Series through chained assignment using an inplace method.\n",
      "The behavior will change in pandas 3.0. This inplace method will never work because the intermediate object on which we are setting values always behaves as a copy.\n",
      "\n",
      "For example, when doing 'df[col].method(value, inplace=True)', try using 'df.method({col: value}, inplace=True)' or df[col] = df[col].method(value) instead, to perform the operation inplace on the original object.\n",
      "\n",
      "\n",
      "  df['Age'].fillna(df['Age'].median(),inplace = True)\n",
      "C:\\Users\\User\\AppData\\Local\\Temp\\ipykernel_15072\\3858296092.py:42: FutureWarning: A value is trying to be set on a copy of a DataFrame or Series through chained assignment using an inplace method.\n",
      "The behavior will change in pandas 3.0. This inplace method will never work because the intermediate object on which we are setting values always behaves as a copy.\n",
      "\n",
      "For example, when doing 'df[col].method(value, inplace=True)', try using 'df.method({col: value}, inplace=True)' or df[col] = df[col].method(value) instead, to perform the operation inplace on the original object.\n",
      "\n",
      "\n",
      "  df['Fare'].fillna(df['Fare'].median(),inplace = True)\n",
      "C:\\Users\\User\\AppData\\Local\\Temp\\ipykernel_15072\\3858296092.py:43: FutureWarning: A value is trying to be set on a copy of a DataFrame or Series through chained assignment using an inplace method.\n",
      "The behavior will change in pandas 3.0. This inplace method will never work because the intermediate object on which we are setting values always behaves as a copy.\n",
      "\n",
      "For example, when doing 'df[col].method(value, inplace=True)', try using 'df.method({col: value}, inplace=True)' or df[col] = df[col].method(value) instead, to perform the operation inplace on the original object.\n",
      "\n",
      "\n",
      "  df['Embarked'].fillna(df['Embarked'].mode()[0],inplace = True)\n"
     ]
    },
    {
     "name": "stdout",
     "output_type": "stream",
     "text": [
      "confusion_matrix: [[93 14]\n",
      " [40 32]]\n",
      "accuracy: 0.6983240223463687\n"
     ]
    }
   ],
   "source": [
    "class naiveBayes:\n",
    "    def __init__(self):\n",
    "        self.prior ={}\n",
    "        self.conditional ={}\n",
    "\n",
    "    def fit(self,X,y):\n",
    "        self.classes = np.unique(y)\n",
    "        for c in self.classes:\n",
    "            self.prior[c] = np.mean(y==c)\n",
    "        for feature in X.columns:\n",
    "            self.conditional[feature] = {}\n",
    "            for c in self.classes:\n",
    "                feature_value = X[feature][y==c]\n",
    "                self.conditional[feature][c] = {'mean': np.mean(feature_value), 'std':np.std(feature_value)}\n",
    "\n",
    "\n",
    "    def predict(self,X):\n",
    "        y_pred =[]\n",
    "        for _, sample in X.iterrows():\n",
    "            probabilities = {}\n",
    "\n",
    "            for c in self.classes:\n",
    "                probabilities[c] = self.prior[c]\n",
    "\n",
    "                for feature in X.columns:\n",
    "                    mean = self.conditional[feature][c]['mean']\n",
    "                    std  = self.conditional[feature][c]['std']\n",
    "                    x=sample[feature]\n",
    "                    probabilities[c] *= self.guassian(x,mean,std)\n",
    "\n",
    "            y_pred.append(max(probabilities, key=probabilities.get))\n",
    "\n",
    "        return y_pred\n",
    "\n",
    "    def guassian(self,x,mean,std):\n",
    "        exponent = np.exp(-((x-mean)**2)/(2*std**2))\n",
    "        return (1/(np.sqrt(2*np.pi)*std) )* exponent\n",
    "    \n",
    "df = pd.read_csv('./titanic.csv')\n",
    "df = df[['Survived','Pclass','Age','SibSp','Parch','Fare','Embarked']]\n",
    "df['Age'].fillna(df['Age'].median(),inplace = True)\n",
    "df['Fare'].fillna(df['Fare'].median(),inplace = True)\n",
    "df['Embarked'].fillna(df['Embarked'].mode()[0],inplace = True)\n",
    "df['Embarked'] = df['Embarked'].map({'C':0,'Q':1,'S':2})\n",
    "\n",
    "train,test = train_test_split(df,test_size=0.2)\n",
    "\n",
    "X_train = train.drop('Survived',axis=1)\n",
    "y_train = train['Survived']\n",
    "X_test = test.drop('Survived',axis=1)\n",
    "y_test = test['Survived']\n",
    "\n",
    "classifier = naiveBayes()\n",
    "classifier.fit(X_train,y_train)\n",
    "y_pred = classifier.predict(X_test)\n",
    "\n",
    "cm = confusion_matrix(y_test,y_pred)\n",
    "print(\"confusion_matrix:\",cm)\n",
    "accuracy = np.mean(y_pred == y_test)\n",
    "print(\"accuracy:\",accuracy)\n",
    "\n",
    "\n",
    "\n",
    "\n",
    "\n",
    "    \n",
    "\n",
    "\n"
   ]
  },
  {
   "cell_type": "code",
   "execution_count": null,
   "metadata": {},
   "outputs": [],
   "source": []
  }
 ],
 "metadata": {
  "kernelspec": {
   "display_name": "Python 3",
   "language": "python",
   "name": "python3"
  },
  "language_info": {
   "codemirror_mode": {
    "name": "ipython",
    "version": 3
   },
   "file_extension": ".py",
   "mimetype": "text/x-python",
   "name": "python",
   "nbconvert_exporter": "python",
   "pygments_lexer": "ipython3",
   "version": "3.11.9"
  }
 },
 "nbformat": 4,
 "nbformat_minor": 2
}
